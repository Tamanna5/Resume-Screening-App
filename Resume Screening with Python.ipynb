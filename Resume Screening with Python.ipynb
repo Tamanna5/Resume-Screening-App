{
 "cells": [
  {
   "cell_type": "code",
   "execution_count": 61,
   "metadata": {
    "_cell_guid": "b1076dfc-b9ad-4769-8c92-a6c4dae69d19",
    "_uuid": "8f2839f25d086af736a60e9eeb907d3b93b6e0e5",
    "execution": {
     "iopub.execute_input": "2025-05-24T05:50:07.978677Z",
     "iopub.status.busy": "2025-05-24T05:50:07.977681Z",
     "iopub.status.idle": "2025-05-24T05:50:08.002045Z",
     "shell.execute_reply": "2025-05-24T05:50:08.001165Z",
     "shell.execute_reply.started": "2025-05-24T05:50:07.978646Z"
    },
    "trusted": true
   },
   "outputs": [],
   "source": [
    "# This Python 3 environment comes with many helpful analytics libraries installed\n",
    "# It is defined by the kaggle/python Docker image: https://github.com/kaggle/docker-python\n",
    "# For example, here's several helpful packages to load\n",
    "\n",
    "import numpy as np # linear algebra\n",
    "import pandas as pd # data processing, CSV file I/O (e.g. pd.read_csv)\n",
    "\n",
    "# Input data files are available in the read-only \"../input/\" directory\n",
    "# For example, running this (by clicking run or pressing Shift+Enter) will list all files under the input directory\n",
    "\n",
    "import os\n",
    "for dirname, _, filenames in os.walk('/kaggle/input'):\n",
    "    for filename in filenames:\n",
    "        print(os.path.join(dirname, filename))\n",
    "\n",
    "# You can write up to 20GB to the current directory (/kaggle/working/) that gets preserved as output when you create a version using \"Save & Run All\" \n",
    "# You can also write temporary files to /kaggle/temp/, but they won't be saved outside of the current session"
   ]
  },
  {
   "cell_type": "code",
   "execution_count": 62,
   "metadata": {
    "execution": {
     "iopub.execute_input": "2025-05-24T05:50:08.003859Z",
     "iopub.status.busy": "2025-05-24T05:50:08.003590Z",
     "iopub.status.idle": "2025-05-24T05:50:08.008492Z",
     "shell.execute_reply": "2025-05-24T05:50:08.007532Z",
     "shell.execute_reply.started": "2025-05-24T05:50:08.003839Z"
    },
    "trusted": true
   },
   "outputs": [],
   "source": [
    "import numpy as np\n",
    "import pandas as pd\n",
    "import matplotlib.pyplot as plt\n",
    "import seaborn as sns"
   ]
  },
  {
   "cell_type": "code",
   "execution_count": null,
   "metadata": {
    "execution": {
     "iopub.execute_input": "2025-05-24T05:50:08.010193Z",
     "iopub.status.busy": "2025-05-24T05:50:08.009477Z",
     "iopub.status.idle": "2025-05-24T05:50:08.058190Z",
     "shell.execute_reply": "2025-05-24T05:50:08.057331Z",
     "shell.execute_reply.started": "2025-05-24T05:50:08.010103Z"
    },
    "trusted": true
   },
   "outputs": [],
   "source": [
    "df=pd.read_csv(\"/kaggle/input/resume-dataset/UpdatedResumeDataSet.csv\")"
   ]
  },
  {
   "cell_type": "code",
   "execution_count": 65,
   "metadata": {
    "execution": {
     "iopub.execute_input": "2025-05-24T05:50:08.059310Z",
     "iopub.status.busy": "2025-05-24T05:50:08.059036Z",
     "iopub.status.idle": "2025-05-24T05:50:08.068926Z",
     "shell.execute_reply": "2025-05-24T05:50:08.067792Z",
     "shell.execute_reply.started": "2025-05-24T05:50:08.059290Z"
    },
    "trusted": true
   },
   "outputs": [
    {
     "data": {
      "text/html": [
       "<div>\n",
       "<style scoped>\n",
       "    .dataframe tbody tr th:only-of-type {\n",
       "        vertical-align: middle;\n",
       "    }\n",
       "\n",
       "    .dataframe tbody tr th {\n",
       "        vertical-align: top;\n",
       "    }\n",
       "\n",
       "    .dataframe thead th {\n",
       "        text-align: right;\n",
       "    }\n",
       "</style>\n",
       "<table border=\"1\" class=\"dataframe\">\n",
       "  <thead>\n",
       "    <tr style=\"text-align: right;\">\n",
       "      <th></th>\n",
       "      <th>Category</th>\n",
       "      <th>Resume</th>\n",
       "    </tr>\n",
       "  </thead>\n",
       "  <tbody>\n",
       "    <tr>\n",
       "      <th>0</th>\n",
       "      <td>Data Science</td>\n",
       "      <td>Skills * Programming Languages: Python (pandas...</td>\n",
       "    </tr>\n",
       "    <tr>\n",
       "      <th>1</th>\n",
       "      <td>Data Science</td>\n",
       "      <td>Education Details \\r\\nMay 2013 to May 2017 B.E...</td>\n",
       "    </tr>\n",
       "    <tr>\n",
       "      <th>2</th>\n",
       "      <td>Data Science</td>\n",
       "      <td>Areas of Interest Deep Learning, Control Syste...</td>\n",
       "    </tr>\n",
       "    <tr>\n",
       "      <th>3</th>\n",
       "      <td>Data Science</td>\n",
       "      <td>Skills â¢ R â¢ Python â¢ SAP HANA â¢ Table...</td>\n",
       "    </tr>\n",
       "    <tr>\n",
       "      <th>4</th>\n",
       "      <td>Data Science</td>\n",
       "      <td>Education Details \\r\\n MCA   YMCAUST,  Faridab...</td>\n",
       "    </tr>\n",
       "  </tbody>\n",
       "</table>\n",
       "</div>"
      ],
      "text/plain": [
       "       Category                                             Resume\n",
       "0  Data Science  Skills * Programming Languages: Python (pandas...\n",
       "1  Data Science  Education Details \\r\\nMay 2013 to May 2017 B.E...\n",
       "2  Data Science  Areas of Interest Deep Learning, Control Syste...\n",
       "3  Data Science  Skills â¢ R â¢ Python â¢ SAP HANA â¢ Table...\n",
       "4  Data Science  Education Details \\r\\n MCA   YMCAUST,  Faridab..."
      ]
     },
     "execution_count": 65,
     "metadata": {},
     "output_type": "execute_result"
    }
   ],
   "source": [
    "df.head()"
   ]
  },
  {
   "cell_type": "code",
   "execution_count": 66,
   "metadata": {
    "execution": {
     "iopub.execute_input": "2025-05-24T05:50:08.071329Z",
     "iopub.status.busy": "2025-05-24T05:50:08.071044Z",
     "iopub.status.idle": "2025-05-24T05:50:08.084152Z",
     "shell.execute_reply": "2025-05-24T05:50:08.083223Z",
     "shell.execute_reply.started": "2025-05-24T05:50:08.071306Z"
    },
    "trusted": true
   },
   "outputs": [
    {
     "data": {
      "text/plain": [
       "(962, 2)"
      ]
     },
     "execution_count": 66,
     "metadata": {},
     "output_type": "execute_result"
    }
   ],
   "source": [
    "df.shape"
   ]
  },
  {
   "cell_type": "code",
   "execution_count": 67,
   "metadata": {
    "execution": {
     "iopub.execute_input": "2025-05-24T05:50:08.085566Z",
     "iopub.status.busy": "2025-05-24T05:50:08.085061Z",
     "iopub.status.idle": "2025-05-24T05:50:08.104640Z",
     "shell.execute_reply": "2025-05-24T05:50:08.103790Z",
     "shell.execute_reply.started": "2025-05-24T05:50:08.085536Z"
    },
    "trusted": true
   },
   "outputs": [
    {
     "data": {
      "text/plain": [
       "Category\n",
       "Java Developer               84\n",
       "Testing                      70\n",
       "DevOps Engineer              55\n",
       "Python Developer             48\n",
       "Web Designing                45\n",
       "HR                           44\n",
       "Hadoop                       42\n",
       "Blockchain                   40\n",
       "ETL Developer                40\n",
       "Operations Manager           40\n",
       "Data Science                 40\n",
       "Sales                        40\n",
       "Mechanical Engineer          40\n",
       "Arts                         36\n",
       "Database                     33\n",
       "Electrical Engineering       30\n",
       "Health and fitness           30\n",
       "PMO                          30\n",
       "Business Analyst             28\n",
       "DotNet Developer             28\n",
       "Automation Testing           26\n",
       "Network Security Engineer    25\n",
       "SAP Developer                24\n",
       "Civil Engineer               24\n",
       "Advocate                     20\n",
       "Name: count, dtype: int64"
      ]
     },
     "execution_count": 67,
     "metadata": {},
     "output_type": "execute_result"
    }
   ],
   "source": [
    "df['Category'].value_counts()"
   ]
  },
  {
   "cell_type": "code",
   "execution_count": 68,
   "metadata": {
    "execution": {
     "iopub.execute_input": "2025-05-24T05:50:08.105909Z",
     "iopub.status.busy": "2025-05-24T05:50:08.105511Z",
     "iopub.status.idle": "2025-05-24T05:50:08.497103Z",
     "shell.execute_reply": "2025-05-24T05:50:08.496233Z",
     "shell.execute_reply.started": "2025-05-24T05:50:08.105887Z"
    },
    "trusted": true
   },
   "outputs": [
    {
     "data": {
      "text/plain": [
       "<function matplotlib.pyplot.show(close=None, block=None)>"
      ]
     },
     "execution_count": 68,
     "metadata": {},
     "output_type": "execute_result"
    },
    {
     "data": {
      "image/png": "[encoded data removed]",
      "text/plain": [
       "<Figure size 1500x500 with 1 Axes>"
      ]
     },
     "metadata": {},
     "output_type": "display_data"
    }
   ],
   "source": [
    "plt.figure(figsize=(15,5))\n",
    "sns.countplot(data=df, x='Category')\n",
    "plt.xticks(rotation=90)\n",
    "plt.show"
   ]
  },
  {
   "cell_type": "code",
   "execution_count": 69,
   "metadata": {
    "execution": {
     "iopub.execute_input": "2025-05-24T05:50:08.498637Z",
     "iopub.status.busy": "2025-05-24T05:50:08.498395Z",
     "iopub.status.idle": "2025-05-24T05:50:08.504114Z",
     "shell.execute_reply": "2025-05-24T05:50:08.503317Z",
     "shell.execute_reply.started": "2025-05-24T05:50:08.498617Z"
    },
    "trusted": true
   },
   "outputs": [
    {
     "data": {
      "text/plain": [
       "array(['Data Science', 'HR', 'Advocate', 'Arts', 'Web Designing',\n",
       "       'Mechanical Engineer', 'Sales', 'Health and fitness',\n",
       "       'Civil Engineer', 'Java Developer', 'Business Analyst',\n",
       "       'SAP Developer', 'Automation Testing', 'Electrical Engineering',\n",
       "       'Operations Manager', 'Python Developer', 'DevOps Engineer',\n",
       "       'Network Security Engineer', 'PMO', 'Database', 'Hadoop',\n",
       "       'ETL Developer', 'DotNet Developer', 'Blockchain', 'Testing'],\n",
       "      dtype=object)"
      ]
     },
     "execution_count": 69,
     "metadata": {},
     "output_type": "execute_result"
    }
   ],
   "source": [
    "df['Category'].unique()"
   ]
  },
  {
   "cell_type": "code",
   "execution_count": 70,
   "metadata": {
    "execution": {
     "iopub.execute_input": "2025-05-24T05:50:08.505233Z",
     "iopub.status.busy": "2025-05-24T05:50:08.504971Z",
     "iopub.status.idle": "2025-05-24T05:50:09.105534Z",
     "shell.execute_reply": "2025-05-24T05:50:09.104546Z",
     "shell.execute_reply.started": "2025-05-24T05:50:08.505212Z"
    },
    "trusted": true
   },
   "outputs": [
    {
     "data": {
      "image/png": "[encoded data removed]",
      "text/plain": [
       "<Figure size 640x480 with 1 Axes>"
      ]
     },
     "metadata": {},
     "output_type": "display_data"
    }
   ],
   "source": [
    "counts = df['Category'].value_counts()\n",
    "labels = df['Category'].unique()\n",
    "plt.pie(counts, labels=labels, autopct='%1.1f%%', shadow=True, colors=plt.cm.coolwarm(np.linspace(0, 1, len(labels))))\n",
    "plt.show()"
   ]
  },
  {
   "cell_type": "markdown",
   "metadata": {},
   "source": [
    "Exploring Resume"
   ]
  },
  {
   "cell_type": "code",
   "execution_count": 71,
   "metadata": {
    "execution": {
     "iopub.execute_input": "2025-05-24T05:50:09.108012Z",
     "iopub.status.busy": "2025-05-24T05:50:09.107757Z",
     "iopub.status.idle": "2025-05-24T05:50:09.113852Z",
     "shell.execute_reply": "2025-05-24T05:50:09.113101Z",
     "shell.execute_reply.started": "2025-05-24T05:50:09.107991Z"
    },
    "trusted": true
   },
   "outputs": [
    {
     "data": {
      "text/plain": [
       "'Data Science'"
      ]
     },
     "execution_count": 71,
     "metadata": {},
     "output_type": "execute_result"
    }
   ],
   "source": [
    "df['Category'][0]"
   ]
  },
  {
   "cell_type": "code",
   "execution_count": 72,
   "metadata": {
    "execution": {
     "iopub.execute_input": "2025-05-24T05:50:09.115640Z",
     "iopub.status.busy": "2025-05-24T05:50:09.114784Z",
     "iopub.status.idle": "2025-05-24T05:50:09.131205Z",
     "shell.execute_reply": "2025-05-24T05:50:09.130344Z",
     "shell.execute_reply.started": "2025-05-24T05:50:09.115609Z"
    },
    "trusted": true
   },
   "outputs": [
    {
     "data": {
      "text/plain": [
       "'Skills * Programming Languages: Python (pandas, numpy, scipy, scikit-learn, matplotlib), Sql, Java, JavaScript/JQuery. * Machine learning: Regression, SVM, NaÃ¯ve Bayes, KNN, Random Forest, Decision Trees, Boosting techniques, Cluster Analysis, Word Embedding, Sentiment Analysis, Natural Language processing, Dimensionality reduction, Topic Modelling (LDA, NMF), PCA & Neural Nets. * Database Visualizations: Mysql, SqlServer, Cassandra, Hbase, ElasticSearch D3.js, DC.js, Plotly, kibana, matplotlib, ggplot, Tableau. * Others: Regular Expression, HTML, CSS, Angular 6, Logstash, Kafka, Python Flask, Git, Docker, computer vision - Open CV and understanding of Deep learning.Education Details \\r\\n\\r\\nData Science Assurance Associate \\r\\n\\r\\nData Science Assurance Associate - Ernst & Young LLP\\r\\nSkill Details \\r\\nJAVASCRIPT- Exprience - 24 months\\r\\njQuery- Exprience - 24 months\\r\\nPython- Exprience - 24 monthsCompany Details \\r\\ncompany - Ernst & Young LLP\\r\\ndescription - Fraud Investigations and Dispute Services   Assurance\\r\\nTECHNOLOGY ASSISTED REVIEW\\r\\nTAR (Technology Assisted Review) assists in accelerating the review process and run analytics and generate reports.\\r\\n* Core member of a team helped in developing automated review platform tool from scratch for assisting E discovery domain, this tool implements predictive coding and topic modelling by automating reviews, resulting in reduced labor costs and time spent during the lawyers review.\\r\\n* Understand the end to end flow of the solution, doing research and development for classification models, predictive analysis and mining of the information present in text data. Worked on analyzing the outputs and precision monitoring for the entire tool.\\r\\n* TAR assists in predictive coding, topic modelling from the evidence by following EY standards. Developed the classifier models in order to identify \"red flags\" and fraud-related issues.\\r\\n\\r\\nTools & Technologies: Python, scikit-learn, tfidf, word2vec, doc2vec, cosine similarity, NaÃ¯ve Bayes, LDA, NMF for topic modelling, Vader and text blob for sentiment analysis. Matplot lib, Tableau dashboard for reporting.\\r\\n\\r\\nMULTIPLE DATA SCIENCE AND ANALYTIC PROJECTS (USA CLIENTS)\\r\\nTEXT ANALYTICS - MOTOR VEHICLE CUSTOMER REVIEW DATA * Received customer feedback survey data for past one year. Performed sentiment (Positive, Negative & Neutral) and time series analysis on customer comments across all 4 categories.\\r\\n* Created heat map of terms by survey category based on frequency of words * Extracted Positive and Negative words across all the Survey categories and plotted Word cloud.\\r\\n* Created customized tableau dashboards for effective reporting and visualizations.\\r\\nCHATBOT * Developed a user friendly chatbot for one of our Products which handle simple questions about hours of operation, reservation options and so on.\\r\\n* This chat bot serves entire product related questions. Giving overview of tool via QA platform and also give recommendation responses so that user question to build chain of relevant answer.\\r\\n* This too has intelligence to build the pipeline of questions as per user requirement and asks the relevant /recommended questions.\\r\\n\\r\\nTools & Technologies: Python, Natural language processing, NLTK, spacy, topic modelling, Sentiment analysis, Word Embedding, scikit-learn, JavaScript/JQuery, SqlServer\\r\\n\\r\\nINFORMATION GOVERNANCE\\r\\nOrganizations to make informed decisions about all of the information they store. The integrated Information Governance portfolio synthesizes intelligence across unstructured data sources and facilitates action to ensure organizations are best positioned to counter information risk.\\r\\n* Scan data from multiple sources of formats and parse different file formats, extract Meta data information, push results for indexing elastic search and created customized, interactive dashboards using kibana.\\r\\n* Preforming ROT Analysis on the data which give information of data which helps identify content that is either Redundant, Outdated, or Trivial.\\r\\n* Preforming full-text search analysis on elastic search with predefined methods which can tag as (PII) personally identifiable information (social security numbers, addresses, names, etc.) which frequently targeted during cyber-attacks.\\r\\nTools & Technologies: Python, Flask, Elastic Search, Kibana\\r\\n\\r\\nFRAUD ANALYTIC PLATFORM\\r\\nFraud Analytics and investigative platform to review all red flag cases.\\r\\nâ\\x80¢ FAP is a Fraud Analytics and investigative platform with inbuilt case manager and suite of Analytics for various ERP systems.\\r\\n* It can be used by clients to interrogate their Accounting systems for identifying the anomalies which can be indicators of fraud by running advanced analytics\\r\\nTools & Technologies: HTML, JavaScript, SqlServer, JQuery, CSS, Bootstrap, Node.js, D3.js, DC.js'"
      ]
     },
     "execution_count": 72,
     "metadata": {},
     "output_type": "execute_result"
    }
   ],
   "source": [
    "df['Resume'][0]"
   ]
  },
  {
   "cell_type": "markdown",
   "metadata": {},
   "source": [
    "Balance Classes (Categories)"
   ]
  },
  {
   "cell_type": "code",
   "execution_count": 73,
   "metadata": {
    "execution": {
     "iopub.execute_input": "2025-05-24T05:50:09.132395Z",
     "iopub.status.busy": "2025-05-24T05:50:09.132137Z",
     "iopub.status.idle": "2025-05-24T05:50:09.164591Z",
     "shell.execute_reply": "2025-05-24T05:50:09.163474Z",
     "shell.execute_reply.started": "2025-05-24T05:50:09.132375Z"
    },
    "trusted": true
   },
   "outputs": [
    {
     "name": "stdout",
     "output_type": "stream",
     "text": [
      "Original Category Distribution:\n",
      "Category\n",
      "Java Developer               84\n",
      "Testing                      70\n",
      "DevOps Engineer              55\n",
      "Python Developer             48\n",
      "Web Designing                45\n",
      "HR                           44\n",
      "Hadoop                       42\n",
      "Blockchain                   40\n",
      "ETL Developer                40\n",
      "Operations Manager           40\n",
      "Data Science                 40\n",
      "Sales                        40\n",
      "Mechanical Engineer          40\n",
      "Arts                         36\n",
      "Database                     33\n",
      "Electrical Engineering       30\n",
      "Health and fitness           30\n",
      "PMO                          30\n",
      "Business Analyst             28\n",
      "DotNet Developer             28\n",
      "Automation Testing           26\n",
      "Network Security Engineer    25\n",
      "SAP Developer                24\n",
      "Civil Engineer               24\n",
      "Advocate                     20\n",
      "Name: count, dtype: int64\n",
      "\n",
      "Balanced Category Distribution (After Oversampling):\n",
      "Category\n",
      "Blockchain                   84\n",
      "Database                     84\n",
      "Network Security Engineer    84\n",
      "Mechanical Engineer          84\n",
      "DevOps Engineer              84\n",
      "Sales                        84\n",
      "Web Designing                84\n",
      "DotNet Developer             84\n",
      "Java Developer               84\n",
      "Advocate                     84\n",
      "Civil Engineer               84\n",
      "Electrical Engineering       84\n",
      "Arts                         84\n",
      "Operations Manager           84\n",
      "Hadoop                       84\n",
      "SAP Developer                84\n",
      "Data Science                 84\n",
      "PMO                          84\n",
      "Automation Testing           84\n",
      "Business Analyst             84\n",
      "HR                           84\n",
      "Testing                      84\n",
      "ETL Developer                84\n",
      "Python Developer             84\n",
      "Health and fitness           84\n",
      "Name: count, dtype: int64\n"
     ]
    },
    {
     "name": "stderr",
     "output_type": "stream",
     "text": [
      "/var/folders/sm/n0tyhvz11j72ff1yj0tlvywh0000gn/T/ipykernel_11683/1665345931.py:9: DeprecationWarning: DataFrameGroupBy.apply operated on the grouping columns. This behavior is deprecated, and in a future version of pandas the grouping columns will be excluded from the operation. Either pass `include_groups=False` to exclude the groupings or explicitly select the grouping columns after groupby to silence this warning.\n",
      "  balanced_df = df.groupby('Category').apply(lambda x: x.sample(max_size, replace=True)).reset_index(drop=True)\n"
     ]
    }
   ],
   "source": [
    "# Check the original category distribution\n",
    "print(\"Original Category Distribution:\")\n",
    "print(df['Category'].value_counts())\n",
    "\n",
    "# Get the largest category size (i.e., the category with the maximum number of entries)\n",
    "max_size = df['Category'].value_counts().max()\n",
    "\n",
    "# Perform oversampling\n",
    "balanced_df = df.groupby('Category').apply(lambda x: x.sample(max_size, replace=True)).reset_index(drop=True)\n",
    "\n",
    "# Shuffle the dataset to avoid any order bias\n",
    "df = balanced_df.sample(frac=1).reset_index(drop=True)\n",
    "\n",
    "# Check the balanced category distribution\n",
    "print(\"\\nBalanced Category Distribution (After Oversampling):\")\n",
    "print(df['Category'].value_counts())"
   ]
  },
  {
   "cell_type": "markdown",
   "metadata": {},
   "source": [
    "**Cleaning data:**\n",
    "1. Urls\n",
    "2. hashtags\n",
    "3. mentions\n",
    "4. special letters\n",
    "5. punctation"
   ]
  },
  {
   "cell_type": "code",
   "execution_count": 74,
   "metadata": {
    "execution": {
     "iopub.execute_input": "2025-05-24T05:50:09.166022Z",
     "iopub.status.busy": "2025-05-24T05:50:09.165715Z",
     "iopub.status.idle": "2025-05-24T05:50:09.171376Z",
     "shell.execute_reply": "2025-05-24T05:50:09.170596Z",
     "shell.execute_reply.started": "2025-05-24T05:50:09.166001Z"
    },
    "trusted": true
   },
   "outputs": [
    {
     "name": "stderr",
     "output_type": "stream",
     "text": [
      "<>:3: SyntaxWarning: invalid escape sequence '\\S'\n",
      "<>:5: SyntaxWarning: invalid escape sequence '\\S'\n",
      "<>:6: SyntaxWarning: invalid escape sequence '\\S'\n",
      "<>:7: SyntaxWarning: invalid escape sequence '\\]'\n",
      "<>:9: SyntaxWarning: invalid escape sequence '\\s'\n",
      "<>:3: SyntaxWarning: invalid escape sequence '\\S'\n",
      "<>:5: SyntaxWarning: invalid escape sequence '\\S'\n",
      "<>:6: SyntaxWarning: invalid escape sequence '\\S'\n",
      "<>:7: SyntaxWarning: invalid escape sequence '\\]'\n",
      "<>:9: SyntaxWarning: invalid escape sequence '\\s'\n",
      "/var/folders/sm/n0tyhvz11j72ff1yj0tlvywh0000gn/T/ipykernel_11683/2211266958.py:3: SyntaxWarning: invalid escape sequence '\\S'\n",
      "  cleanTxt=re.sub('http\\S+\\s',' ',txt)\n",
      "/var/folders/sm/n0tyhvz11j72ff1yj0tlvywh0000gn/T/ipykernel_11683/2211266958.py:5: SyntaxWarning: invalid escape sequence '\\S'\n",
      "  cleanTxt=re.sub('#\\S+\\s',' ',cleanTxt)\n",
      "/var/folders/sm/n0tyhvz11j72ff1yj0tlvywh0000gn/T/ipykernel_11683/2211266958.py:6: SyntaxWarning: invalid escape sequence '\\S'\n",
      "  cleanTxt=re.sub('@\\S+',' ',cleanTxt)\n",
      "/var/folders/sm/n0tyhvz11j72ff1yj0tlvywh0000gn/T/ipykernel_11683/2211266958.py:7: SyntaxWarning: invalid escape sequence '\\]'\n",
      "  cleanTxt=re.sub('[%s]'% re.escape(\"\"\"!\"#$%&'()*+,-./:;<=>?@[\\]^_{|}~\"\"\"),' ',cleanTxt)\n",
      "/var/folders/sm/n0tyhvz11j72ff1yj0tlvywh0000gn/T/ipykernel_11683/2211266958.py:9: SyntaxWarning: invalid escape sequence '\\s'\n",
      "  cleanTxt=re.sub('\\s+',' ',cleanTxt)\n"
     ]
    }
   ],
   "source": [
    "import re\n",
    "def cleanResume(txt):\n",
    "    cleanTxt=re.sub('http\\S+\\s',' ',txt)\n",
    "    cleanTxt=re.sub('RT|CC',' ',cleanTxt)\n",
    "    cleanTxt=re.sub('#\\S+\\s',' ',cleanTxt)\n",
    "    cleanTxt=re.sub('@\\S+',' ',cleanTxt)\n",
    "    cleanTxt=re.sub('[%s]'% re.escape(\"\"\"!\"#$%&'()*+,-./:;<=>?@[\\]^_{|}~\"\"\"),' ',cleanTxt)\n",
    "    cleanTxt=re.sub('r[^\\x00-\\x7f]',' ',cleanTxt)\n",
    "    cleanTxt=re.sub('\\s+',' ',cleanTxt)\n",
    "    \n",
    "    return cleanTxt"
   ]
  },
  {
   "cell_type": "code",
   "execution_count": 75,
   "metadata": {
    "execution": {
     "iopub.execute_input": "2025-05-24T05:50:09.172534Z",
     "iopub.status.busy": "2025-05-24T05:50:09.172245Z",
     "iopub.status.idle": "2025-05-24T05:50:09.189621Z",
     "shell.execute_reply": "2025-05-24T05:50:09.188796Z",
     "shell.execute_reply.started": "2025-05-24T05:50:09.172508Z"
    },
    "trusted": true
   },
   "outputs": [
    {
     "data": {
      "text/plain": [
       "'my webiste like is this and access it '"
      ]
     },
     "execution_count": 75,
     "metadata": {},
     "output_type": "execute_result"
    }
   ],
   "source": [
    "cleanResume(\"my #### $ #  #noorsaeed webiste like is this http://heloword and access it @gmain.com\")"
   ]
  },
  {
   "cell_type": "code",
   "execution_count": 76,
   "metadata": {
    "execution": {
     "iopub.execute_input": "2025-05-24T05:50:09.190906Z",
     "iopub.status.busy": "2025-05-24T05:50:09.190607Z",
     "iopub.status.idle": "2025-05-24T05:50:09.895597Z",
     "shell.execute_reply": "2025-05-24T05:50:09.894783Z",
     "shell.execute_reply.started": "2025-05-24T05:50:09.190876Z"
    },
    "trusted": true
   },
   "outputs": [],
   "source": [
    "df['Resume']=df['Resume'].apply(lambda x:cleanResume(x))"
   ]
  },
  {
   "cell_type": "code",
   "execution_count": 77,
   "metadata": {
    "execution": {
     "iopub.execute_input": "2025-05-24T05:50:09.896549Z",
     "iopub.status.busy": "2025-05-24T05:50:09.896333Z",
     "iopub.status.idle": "2025-05-24T05:50:09.902404Z",
     "shell.execute_reply": "2025-05-24T05:50:09.901487Z",
     "shell.execute_reply.started": "2025-05-24T05:50:09.896532Z"
    },
    "trusted": true
   },
   "outputs": [
    {
     "data": {
      "text/plain": [
       "'SOFTWARE SKILLS Languages C C java Operating Systems Windows XP 7 Ubuntu RDBMS Oracle SQL Database My SQL PostgreSQL Markup Scripting HTML JavaScript PHP CSS JQuery Angular js Framework Struts Hibernate spring MVC Web Server Tomcat and Glassfish Web Services REST AND SOAP TRAINING DETAIL Duration 4 months From United Telecommunication Limited Jharnet project Place Ranchi Jharkhand Networking Requirements Elementary configuration of router and switch IP and MAC addressing Lease Line OSI Layers Routing protocols Status Network Designer Education Details 2 High School Diploma Government Women Ranchi Jharkhand The Institution Blockchain Engineer Blockchain Engineer Auxledger Skill Details JAVA Exprience 19 months CSS Exprience 12 months HTML Exprience 12 months JAVASCRIPT Exprience 12 months C Exprience 6 monthsCompany Details company Auxledger description Worked with on lots of product on blockchain â\\x80¢ Bitcoin Build Wallet and explorer on Bitcoin â\\x80¢ Ethereum Build Wallet and explorer on ethereum blockchain â\\x80¢ Customize product on Ethereum Inventory system Build smart contract in solidity deployed in java byte code and on ethereum as well and I have written API in java spring on that and then build front end and called all Api â\\x80¢ Audit Logger I have audit logger for OTC exchange to keep all transaction record in blockchain â\\x80¢ DOC Safe on ethereum I have build an ethereum application to keep Documents safe on blockchain and document in encrypted form on server â\\x80¢ And explore with Litecoin Ripple exchange OTC P2P Hyperledger Fabric continue company description Worked with a USA team on blockchain on ethereum I have designed product on ethereum blockchain â\\x80¢ Setup private ethereum and bitcoin blockchain Worked on loyalty program system and HER System on ethereum network company ERP System CRM for Real Estate Company description â\\x80¢ At Lavisa Infrastructure Bangalore Sep 2015 Oct 2016 Software developer â\\x80¢ ERP System CRM for Real Estate Company company News Portal description â\\x80¢ On demand product development from client side requirement Like â\\x80¢ Dynamic website Content management system where I have designed front end with backend where content of website was manageable from admin panel â\\x80¢ News Portal News portal where content was in Hindi language I have used Html Css JavaScript JDBC MySQL data base â\\x80¢ Birthday Reminder A small web application for birthday reminder I have used HTMl CSS JavaScript JDBC MySQL DB â\\x80¢ Car parking System A web application for Management of Car Parking System I have used HTMl CSS JavaScript JDBC MySQL DB company Company portal for employee management for Inside Company description â\\x80¢ At United Telecom Limited Ranchi Nov 2013 Sep 2014 Web developer â\\x80¢ Company portal for employee management for Inside Company Onsite employee in different different district And management of all kind of government service like adhar card Birth certificate pan card tracker etc Technology skill Technology Blockchain Bitcoin Ethereum Ripple Hyperledger Fabric Block chain Private setup of blockchain Node building Smart Contract Solidity Language Smart Contract Api Java Spring Dapp Building Node js React js Express js'"
      ]
     },
     "execution_count": 77,
     "metadata": {},
     "output_type": "execute_result"
    }
   ],
   "source": [
    "df['Resume'][0]"
   ]
  },
  {
   "cell_type": "markdown",
   "metadata": {},
   "source": [
    "words into categorical values"
   ]
  },
  {
   "cell_type": "code",
   "execution_count": 78,
   "metadata": {
    "execution": {
     "iopub.execute_input": "2025-05-24T05:50:09.903605Z",
     "iopub.status.busy": "2025-05-24T05:50:09.903330Z",
     "iopub.status.idle": "2025-05-24T05:50:09.918988Z",
     "shell.execute_reply": "2025-05-24T05:50:09.918096Z",
     "shell.execute_reply.started": "2025-05-24T05:50:09.903576Z"
    },
    "trusted": true
   },
   "outputs": [],
   "source": [
    "from sklearn.preprocessing import LabelEncoder\n",
    "le =LabelEncoder()"
   ]
  },
  {
   "cell_type": "code",
   "execution_count": 79,
   "metadata": {
    "execution": {
     "iopub.execute_input": "2025-05-24T05:50:09.920284Z",
     "iopub.status.busy": "2025-05-24T05:50:09.919946Z",
     "iopub.status.idle": "2025-05-24T05:50:09.936656Z",
     "shell.execute_reply": "2025-05-24T05:50:09.935807Z",
     "shell.execute_reply.started": "2025-05-24T05:50:09.920254Z"
    },
    "trusted": true
   },
   "outputs": [],
   "source": [
    "le.fit(df['Category'])\n",
    "df['Category']=le.transform(df['Category'])"
   ]
  },
  {
   "cell_type": "code",
   "execution_count": 80,
   "metadata": {
    "execution": {
     "iopub.execute_input": "2025-05-24T05:50:09.938074Z",
     "iopub.status.busy": "2025-05-24T05:50:09.937641Z",
     "iopub.status.idle": "2025-05-24T05:50:09.955659Z",
     "shell.execute_reply": "2025-05-24T05:50:09.954810Z",
     "shell.execute_reply.started": "2025-05-24T05:50:09.938042Z"
    },
    "trusted": true
   },
   "outputs": [
    {
     "data": {
      "text/plain": [
       "array([ 3, 18, 20, 10, 23, 12,  4,  2, 19,  6, 21, 13,  1,  7, 11,  5,  0,\n",
       "       15,  9, 24, 22,  8, 16, 17, 14])"
      ]
     },
     "execution_count": 80,
     "metadata": {},
     "output_type": "execute_result"
    }
   ],
   "source": [
    "df.Category.unique()"
   ]
  },
  {
   "cell_type": "code",
   "execution_count": 81,
   "metadata": {
    "execution": {
     "iopub.execute_input": "2025-05-24T05:50:09.956732Z",
     "iopub.status.busy": "2025-05-24T05:50:09.956465Z",
     "iopub.status.idle": "2025-05-24T05:50:09.973513Z",
     "shell.execute_reply": "2025-05-24T05:50:09.972794Z",
     "shell.execute_reply.started": "2025-05-24T05:50:09.956705Z"
    },
    "trusted": true
   },
   "outputs": [],
   "source": [
    "# ['Data Science', 'HR', 'Advocate', 'Arts', 'Web Designing',\n",
    "#        'Mechanical Engineer', 'Sales', 'Health and fitness',\n",
    "#        'Civil Engineer', 'Java Developer', 'Business Analyst',\n",
    "#        'SAP Developer', 'Automation Testing', 'Electrical Engineering',\n",
    "#        'Operations Manager', 'Python Developer', 'DevOps Engineer',\n",
    "#        'Network Security Engineer', 'PMO', 'Database', 'Hadoop',\n",
    "#        'ETL Developer', 'DotNet Developer', 'Blockchain', 'Testing'],\n",
    "#       dtype=object)"
   ]
  },
  {
   "cell_type": "markdown",
   "metadata": {},
   "source": [
    "Vactorization"
   ]
  },
  {
   "cell_type": "code",
   "execution_count": 82,
   "metadata": {
    "execution": {
     "iopub.execute_input": "2025-05-24T05:50:09.974630Z",
     "iopub.status.busy": "2025-05-24T05:50:09.974371Z",
     "iopub.status.idle": "2025-05-24T05:50:11.369490Z",
     "shell.execute_reply": "2025-05-24T05:50:11.368499Z",
     "shell.execute_reply.started": "2025-05-24T05:50:09.974610Z"
    },
    "trusted": true
   },
   "outputs": [],
   "source": [
    "from sklearn.feature_extraction.text import TfidfVectorizer\n",
    "tfidf=TfidfVectorizer(stop_words='english')\n",
    "tfidf.fit(df['Resume'])\n",
    "requredTaxt=tfidf.transform(df['Resume'])"
   ]
  },
  {
   "cell_type": "code",
   "execution_count": 83,
   "metadata": {
    "execution": {
     "iopub.execute_input": "2025-05-24T05:50:11.372995Z",
     "iopub.status.busy": "2025-05-24T05:50:11.372704Z",
     "iopub.status.idle": "2025-05-24T05:50:11.382139Z",
     "shell.execute_reply": "2025-05-24T05:50:11.381286Z",
     "shell.execute_reply.started": "2025-05-24T05:50:11.372973Z"
    },
    "trusted": true
   },
   "outputs": [
    {
     "data": {
      "text/html": [
       "<div>\n",
       "<style scoped>\n",
       "    .dataframe tbody tr th:only-of-type {\n",
       "        vertical-align: middle;\n",
       "    }\n",
       "\n",
       "    .dataframe tbody tr th {\n",
       "        vertical-align: top;\n",
       "    }\n",
       "\n",
       "    .dataframe thead th {\n",
       "        text-align: right;\n",
       "    }\n",
       "</style>\n",
       "<table border=\"1\" class=\"dataframe\">\n",
       "  <thead>\n",
       "    <tr style=\"text-align: right;\">\n",
       "      <th></th>\n",
       "      <th>Category</th>\n",
       "      <th>Resume</th>\n",
       "    </tr>\n",
       "  </thead>\n",
       "  <tbody>\n",
       "    <tr>\n",
       "      <th>0</th>\n",
       "      <td>3</td>\n",
       "      <td>SOFTWARE SKILLS Languages C C java Operating S...</td>\n",
       "    </tr>\n",
       "    <tr>\n",
       "      <th>1</th>\n",
       "      <td>18</td>\n",
       "      <td>Education Details BCA Vinayaka Missions Univer...</td>\n",
       "    </tr>\n",
       "    <tr>\n",
       "      <th>2</th>\n",
       "      <td>20</td>\n",
       "      <td>Training attended 1 Successfully completed ESD...</td>\n",
       "    </tr>\n",
       "    <tr>\n",
       "      <th>3</th>\n",
       "      <td>10</td>\n",
       "      <td>Technical Summary â¢ Knowledge of Informatica...</td>\n",
       "    </tr>\n",
       "    <tr>\n",
       "      <th>4</th>\n",
       "      <td>23</td>\n",
       "      <td>â Willingness to accept the challenges â P...</td>\n",
       "    </tr>\n",
       "    <tr>\n",
       "      <th>...</th>\n",
       "      <td>...</td>\n",
       "      <td>...</td>\n",
       "    </tr>\n",
       "    <tr>\n",
       "      <th>2095</th>\n",
       "      <td>21</td>\n",
       "      <td>Education Details July 2008 to February 2012 B...</td>\n",
       "    </tr>\n",
       "    <tr>\n",
       "      <th>2096</th>\n",
       "      <td>13</td>\n",
       "      <td>Technical Skill Set Programming Languages Apac...</td>\n",
       "    </tr>\n",
       "    <tr>\n",
       "      <th>2097</th>\n",
       "      <td>14</td>\n",
       "      <td>SKILLS Computer â¢ Can easily operate in Oper...</td>\n",
       "    </tr>\n",
       "    <tr>\n",
       "      <th>2098</th>\n",
       "      <td>22</td>\n",
       "      <td>SKILLS 1 MS Office 2 Good Communication skills...</td>\n",
       "    </tr>\n",
       "    <tr>\n",
       "      <th>2099</th>\n",
       "      <td>7</td>\n",
       "      <td>TECHNICAL EXPE ISE â¢ DB Languages SQL â¢ Da...</td>\n",
       "    </tr>\n",
       "  </tbody>\n",
       "</table>\n",
       "<p>2100 rows × 2 columns</p>\n",
       "</div>"
      ],
      "text/plain": [
       "      Category                                             Resume\n",
       "0            3  SOFTWARE SKILLS Languages C C java Operating S...\n",
       "1           18  Education Details BCA Vinayaka Missions Univer...\n",
       "2           20  Training attended 1 Successfully completed ESD...\n",
       "3           10  Technical Summary â¢ Knowledge of Informatica...\n",
       "4           23  â Willingness to accept the challenges â P...\n",
       "...        ...                                                ...\n",
       "2095        21  Education Details July 2008 to February 2012 B...\n",
       "2096        13  Technical Skill Set Programming Languages Apac...\n",
       "2097        14  SKILLS Computer â¢ Can easily operate in Oper...\n",
       "2098        22  SKILLS 1 MS Office 2 Good Communication skills...\n",
       "2099         7  TECHNICAL EXPE ISE â¢ DB Languages SQL â¢ Da...\n",
       "\n",
       "[2100 rows x 2 columns]"
      ]
     },
     "execution_count": 83,
     "metadata": {},
     "output_type": "execute_result"
    }
   ],
   "source": [
    "df"
   ]
  },
  {
   "cell_type": "markdown",
   "metadata": {},
   "source": [
    "Splitting"
   ]
  },
  {
   "cell_type": "code",
   "execution_count": 84,
   "metadata": {
    "execution": {
     "iopub.execute_input": "2025-05-24T05:50:11.383370Z",
     "iopub.status.busy": "2025-05-24T05:50:11.383050Z",
     "iopub.status.idle": "2025-05-24T05:50:11.398795Z",
     "shell.execute_reply": "2025-05-24T05:50:11.397592Z",
     "shell.execute_reply.started": "2025-05-24T05:50:11.383342Z"
    },
    "trusted": true
   },
   "outputs": [],
   "source": [
    "from sklearn.model_selection import train_test_split"
   ]
  },
  {
   "cell_type": "code",
   "execution_count": 85,
   "metadata": {
    "execution": {
     "iopub.execute_input": "2025-05-24T05:50:11.399953Z",
     "iopub.status.busy": "2025-05-24T05:50:11.399632Z",
     "iopub.status.idle": "2025-05-24T05:50:11.412981Z",
     "shell.execute_reply": "2025-05-24T05:50:11.412046Z",
     "shell.execute_reply.started": "2025-05-24T05:50:11.399923Z"
    },
    "trusted": true
   },
   "outputs": [],
   "source": [
    "x_train,x_test,y_train,y_test=train_test_split(requredTaxt,df['Category'],test_size=0.2,random_state=42)"
   ]
  },
  {
   "cell_type": "code",
   "execution_count": 86,
   "metadata": {
    "execution": {
     "iopub.execute_input": "2025-05-24T05:50:11.414459Z",
     "iopub.status.busy": "2025-05-24T05:50:11.414131Z",
     "iopub.status.idle": "2025-05-24T05:50:11.422198Z",
     "shell.execute_reply": "2025-05-24T05:50:11.421340Z",
     "shell.execute_reply.started": "2025-05-24T05:50:11.414429Z"
    },
    "trusted": true
   },
   "outputs": [
    {
     "data": {
      "text/plain": [
       "(1680, 7369)"
      ]
     },
     "execution_count": 86,
     "metadata": {},
     "output_type": "execute_result"
    }
   ],
   "source": [
    "x_train.shape"
   ]
  },
  {
   "cell_type": "code",
   "execution_count": 87,
   "metadata": {
    "execution": {
     "iopub.execute_input": "2025-05-24T05:50:11.423986Z",
     "iopub.status.busy": "2025-05-24T05:50:11.423064Z",
     "iopub.status.idle": "2025-05-24T05:50:11.436978Z",
     "shell.execute_reply": "2025-05-24T05:50:11.436130Z",
     "shell.execute_reply.started": "2025-05-24T05:50:11.423965Z"
    },
    "trusted": true
   },
   "outputs": [
    {
     "data": {
      "text/plain": [
       "(420, 7369)"
      ]
     },
     "execution_count": 87,
     "metadata": {},
     "output_type": "execute_result"
    }
   ],
   "source": [
    "x_test.shape"
   ]
  },
  {
   "cell_type": "markdown",
   "metadata": {},
   "source": [
    "Train the model"
   ]
  },
  {
   "cell_type": "code",
   "execution_count": 88,
   "metadata": {
    "execution": {
     "iopub.execute_input": "2025-05-24T05:50:11.438261Z",
     "iopub.status.busy": "2025-05-24T05:50:11.437919Z",
     "iopub.status.idle": "2025-05-24T05:50:17.006345Z",
     "shell.execute_reply": "2025-05-24T05:50:17.005425Z",
     "shell.execute_reply.started": "2025-05-24T05:50:11.438239Z"
    },
    "trusted": true
   },
   "outputs": [
    {
     "name": "stdout",
     "output_type": "stream",
     "text": [
      "\n",
      "KNeighborsClassifier Results:\n",
      "Accuracy: 1.0000\n",
      "Confusion Matrix:\n",
      "[[14  0  0  0  0  0  0  0  0  0  0  0  0  0  0  0  0  0  0  0  0  0  0  0\n",
      "   0]\n",
      " [ 0 14  0  0  0  0  0  0  0  0  0  0  0  0  0  0  0  0  0  0  0  0  0  0\n",
      "   0]\n",
      " [ 0  0 19  0  0  0  0  0  0  0  0  0  0  0  0  0  0  0  0  0  0  0  0  0\n",
      "   0]\n",
      " [ 0  0  0 17  0  0  0  0  0  0  0  0  0  0  0  0  0  0  0  0  0  0  0  0\n",
      "   0]\n",
      " [ 0  0  0  0 18  0  0  0  0  0  0  0  0  0  0  0  0  0  0  0  0  0  0  0\n",
      "   0]\n",
      " [ 0  0  0  0  0 19  0  0  0  0  0  0  0  0  0  0  0  0  0  0  0  0  0  0\n",
      "   0]\n",
      " [ 0  0  0  0  0  0 13  0  0  0  0  0  0  0  0  0  0  0  0  0  0  0  0  0\n",
      "   0]\n",
      " [ 0  0  0  0  0  0  0 20  0  0  0  0  0  0  0  0  0  0  0  0  0  0  0  0\n",
      "   0]\n",
      " [ 0  0  0  0  0  0  0  0 24  0  0  0  0  0  0  0  0  0  0  0  0  0  0  0\n",
      "   0]\n",
      " [ 0  0  0  0  0  0  0  0  0 13  0  0  0  0  0  0  0  0  0  0  0  0  0  0\n",
      "   0]\n",
      " [ 0  0  0  0  0  0  0  0  0  0 20  0  0  0  0  0  0  0  0  0  0  0  0  0\n",
      "   0]\n",
      " [ 0  0  0  0  0  0  0  0  0  0  0 13  0  0  0  0  0  0  0  0  0  0  0  0\n",
      "   0]\n",
      " [ 0  0  0  0  0  0  0  0  0  0  0  0 17  0  0  0  0  0  0  0  0  0  0  0\n",
      "   0]\n",
      " [ 0  0  0  0  0  0  0  0  0  0  0  0  0 17  0  0  0  0  0  0  0  0  0  0\n",
      "   0]\n",
      " [ 0  0  0  0  0  0  0  0  0  0  0  0  0  0 19  0  0  0  0  0  0  0  0  0\n",
      "   0]\n",
      " [ 0  0  0  0  0  0  0  0  0  0  0  0  0  0  0 16  0  0  0  0  0  0  0  0\n",
      "   0]\n",
      " [ 0  0  0  0  0  0  0  0  0  0  0  0  0  0  0  0 22  0  0  0  0  0  0  0\n",
      "   0]\n",
      " [ 0  0  0  0  0  0  0  0  0  0  0  0  0  0  0  0  0 13  0  0  0  0  0  0\n",
      "   0]\n",
      " [ 0  0  0  0  0  0  0  0  0  0  0  0  0  0  0  0  0  0 17  0  0  0  0  0\n",
      "   0]\n",
      " [ 0  0  0  0  0  0  0  0  0  0  0  0  0  0  0  0  0  0  0 11  0  0  0  0\n",
      "   0]\n",
      " [ 0  0  0  0  0  0  0  0  0  0  0  0  0  0  0  0  0  0  0  0 13  0  0  0\n",
      "   0]\n",
      " [ 0  0  0  0  0  0  0  0  0  0  0  0  0  0  0  0  0  0  0  0  0 17  0  0\n",
      "   0]\n",
      " [ 0  0  0  0  0  0  0  0  0  0  0  0  0  0  0  0  0  0  0  0  0  0 16  0\n",
      "   0]\n",
      " [ 0  0  0  0  0  0  0  0  0  0  0  0  0  0  0  0  0  0  0  0  0  0  0 23\n",
      "   0]\n",
      " [ 0  0  0  0  0  0  0  0  0  0  0  0  0  0  0  0  0  0  0  0  0  0  0  0\n",
      "  15]]\n",
      "Classification Report:\n",
      "              precision    recall  f1-score   support\n",
      "\n",
      "           0       1.00      1.00      1.00        14\n",
      "           1       1.00      1.00      1.00        14\n",
      "           2       1.00      1.00      1.00        19\n",
      "           3       1.00      1.00      1.00        17\n",
      "           4       1.00      1.00      1.00        18\n",
      "           5       1.00      1.00      1.00        19\n",
      "           6       1.00      1.00      1.00        13\n",
      "           7       1.00      1.00      1.00        20\n",
      "           8       1.00      1.00      1.00        24\n",
      "           9       1.00      1.00      1.00        13\n",
      "          10       1.00      1.00      1.00        20\n",
      "          11       1.00      1.00      1.00        13\n",
      "          12       1.00      1.00      1.00        17\n",
      "          13       1.00      1.00      1.00        17\n",
      "          14       1.00      1.00      1.00        19\n",
      "          15       1.00      1.00      1.00        16\n",
      "          16       1.00      1.00      1.00        22\n",
      "          17       1.00      1.00      1.00        13\n",
      "          18       1.00      1.00      1.00        17\n",
      "          19       1.00      1.00      1.00        11\n",
      "          20       1.00      1.00      1.00        13\n",
      "          21       1.00      1.00      1.00        17\n",
      "          22       1.00      1.00      1.00        16\n",
      "          23       1.00      1.00      1.00        23\n",
      "          24       1.00      1.00      1.00        15\n",
      "\n",
      "    accuracy                           1.00       420\n",
      "   macro avg       1.00      1.00      1.00       420\n",
      "weighted avg       1.00      1.00      1.00       420\n",
      "\n"
     ]
    }
   ],
   "source": [
    "\n",
    "from sklearn.neighbors import KNeighborsClassifier\n",
    "from sklearn.svm import SVC\n",
    "from sklearn.ensemble import RandomForestClassifier\n",
    "from sklearn.linear_model import LogisticRegression\n",
    "from sklearn.naive_bayes import GaussianNB\n",
    "from sklearn.multiclass import OneVsRestClassifier\n",
    "from sklearn.metrics import accuracy_score, confusion_matrix, classification_report\n",
    "\n",
    "# Ensure that X_train and X_test are dense if they are sparse\n",
    "x_train = x_train.toarray() if hasattr(x_train, 'toarray') else X_train\n",
    "x_test = x_test.toarray() if hasattr(x_test, 'toarray') else X_test\n",
    "\n",
    "# 1. Train KNeighborsClassifier\n",
    "knn_model = OneVsRestClassifier(KNeighborsClassifier())\n",
    "knn_model.fit(x_train, y_train)\n",
    "y_pred_knn = knn_model.predict(x_test)\n",
    "print(\"\\nKNeighborsClassifier Results:\")\n",
    "print(f\"Accuracy: {accuracy_score(y_test, y_pred_knn):.4f}\")\n",
    "print(f\"Confusion Matrix:\\n{confusion_matrix(y_test, y_pred_knn)}\")\n",
    "print(f\"Classification Report:\\n{classification_report(y_test, y_pred_knn)}\")"
   ]
  },
  {
   "cell_type": "code",
   "execution_count": 89,
   "metadata": {
    "execution": {
     "iopub.execute_input": "2025-05-24T05:50:17.007756Z",
     "iopub.status.busy": "2025-05-24T05:50:17.007504Z",
     "iopub.status.idle": "2025-05-24T05:51:03.846019Z",
     "shell.execute_reply": "2025-05-24T05:51:03.845147Z",
     "shell.execute_reply.started": "2025-05-24T05:50:17.007718Z"
    },
    "trusted": true
   },
   "outputs": [
    {
     "name": "stdout",
     "output_type": "stream",
     "text": [
      "\n",
      "SVC Results:\n",
      "Accuracy: 1.0000\n",
      "Confusion Matrix:\n",
      "[[14  0  0  0  0  0  0  0  0  0  0  0  0  0  0  0  0  0  0  0  0  0  0  0\n",
      "   0]\n",
      " [ 0 14  0  0  0  0  0  0  0  0  0  0  0  0  0  0  0  0  0  0  0  0  0  0\n",
      "   0]\n",
      " [ 0  0 19  0  0  0  0  0  0  0  0  0  0  0  0  0  0  0  0  0  0  0  0  0\n",
      "   0]\n",
      " [ 0  0  0 17  0  0  0  0  0  0  0  0  0  0  0  0  0  0  0  0  0  0  0  0\n",
      "   0]\n",
      " [ 0  0  0  0 18  0  0  0  0  0  0  0  0  0  0  0  0  0  0  0  0  0  0  0\n",
      "   0]\n",
      " [ 0  0  0  0  0 19  0  0  0  0  0  0  0  0  0  0  0  0  0  0  0  0  0  0\n",
      "   0]\n",
      " [ 0  0  0  0  0  0 13  0  0  0  0  0  0  0  0  0  0  0  0  0  0  0  0  0\n",
      "   0]\n",
      " [ 0  0  0  0  0  0  0 20  0  0  0  0  0  0  0  0  0  0  0  0  0  0  0  0\n",
      "   0]\n",
      " [ 0  0  0  0  0  0  0  0 24  0  0  0  0  0  0  0  0  0  0  0  0  0  0  0\n",
      "   0]\n",
      " [ 0  0  0  0  0  0  0  0  0 13  0  0  0  0  0  0  0  0  0  0  0  0  0  0\n",
      "   0]\n",
      " [ 0  0  0  0  0  0  0  0  0  0 20  0  0  0  0  0  0  0  0  0  0  0  0  0\n",
      "   0]\n",
      " [ 0  0  0  0  0  0  0  0  0  0  0 13  0  0  0  0  0  0  0  0  0  0  0  0\n",
      "   0]\n",
      " [ 0  0  0  0  0  0  0  0  0  0  0  0 17  0  0  0  0  0  0  0  0  0  0  0\n",
      "   0]\n",
      " [ 0  0  0  0  0  0  0  0  0  0  0  0  0 17  0  0  0  0  0  0  0  0  0  0\n",
      "   0]\n",
      " [ 0  0  0  0  0  0  0  0  0  0  0  0  0  0 19  0  0  0  0  0  0  0  0  0\n",
      "   0]\n",
      " [ 0  0  0  0  0  0  0  0  0  0  0  0  0  0  0 16  0  0  0  0  0  0  0  0\n",
      "   0]\n",
      " [ 0  0  0  0  0  0  0  0  0  0  0  0  0  0  0  0 22  0  0  0  0  0  0  0\n",
      "   0]\n",
      " [ 0  0  0  0  0  0  0  0  0  0  0  0  0  0  0  0  0 13  0  0  0  0  0  0\n",
      "   0]\n",
      " [ 0  0  0  0  0  0  0  0  0  0  0  0  0  0  0  0  0  0 17  0  0  0  0  0\n",
      "   0]\n",
      " [ 0  0  0  0  0  0  0  0  0  0  0  0  0  0  0  0  0  0  0 11  0  0  0  0\n",
      "   0]\n",
      " [ 0  0  0  0  0  0  0  0  0  0  0  0  0  0  0  0  0  0  0  0 13  0  0  0\n",
      "   0]\n",
      " [ 0  0  0  0  0  0  0  0  0  0  0  0  0  0  0  0  0  0  0  0  0 17  0  0\n",
      "   0]\n",
      " [ 0  0  0  0  0  0  0  0  0  0  0  0  0  0  0  0  0  0  0  0  0  0 16  0\n",
      "   0]\n",
      " [ 0  0  0  0  0  0  0  0  0  0  0  0  0  0  0  0  0  0  0  0  0  0  0 23\n",
      "   0]\n",
      " [ 0  0  0  0  0  0  0  0  0  0  0  0  0  0  0  0  0  0  0  0  0  0  0  0\n",
      "  15]]\n",
      "Classification Report:\n",
      "              precision    recall  f1-score   support\n",
      "\n",
      "           0       1.00      1.00      1.00        14\n",
      "           1       1.00      1.00      1.00        14\n",
      "           2       1.00      1.00      1.00        19\n",
      "           3       1.00      1.00      1.00        17\n",
      "           4       1.00      1.00      1.00        18\n",
      "           5       1.00      1.00      1.00        19\n",
      "           6       1.00      1.00      1.00        13\n",
      "           7       1.00      1.00      1.00        20\n",
      "           8       1.00      1.00      1.00        24\n",
      "           9       1.00      1.00      1.00        13\n",
      "          10       1.00      1.00      1.00        20\n",
      "          11       1.00      1.00      1.00        13\n",
      "          12       1.00      1.00      1.00        17\n",
      "          13       1.00      1.00      1.00        17\n",
      "          14       1.00      1.00      1.00        19\n",
      "          15       1.00      1.00      1.00        16\n",
      "          16       1.00      1.00      1.00        22\n",
      "          17       1.00      1.00      1.00        13\n",
      "          18       1.00      1.00      1.00        17\n",
      "          19       1.00      1.00      1.00        11\n",
      "          20       1.00      1.00      1.00        13\n",
      "          21       1.00      1.00      1.00        17\n",
      "          22       1.00      1.00      1.00        16\n",
      "          23       1.00      1.00      1.00        23\n",
      "          24       1.00      1.00      1.00        15\n",
      "\n",
      "    accuracy                           1.00       420\n",
      "   macro avg       1.00      1.00      1.00       420\n",
      "weighted avg       1.00      1.00      1.00       420\n",
      "\n"
     ]
    }
   ],
   "source": [
    "# 2. Train SVC\n",
    "svc_model = OneVsRestClassifier(SVC())\n",
    "svc_model.fit(x_train, y_train)\n",
    "y_pred_svc = svc_model.predict(x_test)\n",
    "print(\"\\nSVC Results:\")\n",
    "print(f\"Accuracy: {accuracy_score(y_test, y_pred_svc):.4f}\")\n",
    "print(f\"Confusion Matrix:\\n{confusion_matrix(y_test, y_pred_svc)}\")\n",
    "print(f\"Classification Report:\\n{classification_report(y_test, y_pred_svc)}\")"
   ]
  },
  {
   "cell_type": "code",
   "execution_count": 90,
   "metadata": {
    "execution": {
     "iopub.execute_input": "2025-05-24T05:51:03.847175Z",
     "iopub.status.busy": "2025-05-24T05:51:03.846914Z",
     "iopub.status.idle": "2025-05-24T05:51:24.669373Z",
     "shell.execute_reply": "2025-05-24T05:51:24.668520Z",
     "shell.execute_reply.started": "2025-05-24T05:51:03.847148Z"
    },
    "trusted": true
   },
   "outputs": [
    {
     "name": "stdout",
     "output_type": "stream",
     "text": [
      "\n",
      "RandomForestClassifier Results:\n",
      "Accuracy: 1.0000\n",
      "Confusion Matrix:\n",
      "[[14  0  0  0  0  0  0  0  0  0  0  0  0  0  0  0  0  0  0  0  0  0  0  0\n",
      "   0]\n",
      " [ 0 14  0  0  0  0  0  0  0  0  0  0  0  0  0  0  0  0  0  0  0  0  0  0\n",
      "   0]\n",
      " [ 0  0 19  0  0  0  0  0  0  0  0  0  0  0  0  0  0  0  0  0  0  0  0  0\n",
      "   0]\n",
      " [ 0  0  0 17  0  0  0  0  0  0  0  0  0  0  0  0  0  0  0  0  0  0  0  0\n",
      "   0]\n",
      " [ 0  0  0  0 18  0  0  0  0  0  0  0  0  0  0  0  0  0  0  0  0  0  0  0\n",
      "   0]\n",
      " [ 0  0  0  0  0 19  0  0  0  0  0  0  0  0  0  0  0  0  0  0  0  0  0  0\n",
      "   0]\n",
      " [ 0  0  0  0  0  0 13  0  0  0  0  0  0  0  0  0  0  0  0  0  0  0  0  0\n",
      "   0]\n",
      " [ 0  0  0  0  0  0  0 20  0  0  0  0  0  0  0  0  0  0  0  0  0  0  0  0\n",
      "   0]\n",
      " [ 0  0  0  0  0  0  0  0 24  0  0  0  0  0  0  0  0  0  0  0  0  0  0  0\n",
      "   0]\n",
      " [ 0  0  0  0  0  0  0  0  0 13  0  0  0  0  0  0  0  0  0  0  0  0  0  0\n",
      "   0]\n",
      " [ 0  0  0  0  0  0  0  0  0  0 20  0  0  0  0  0  0  0  0  0  0  0  0  0\n",
      "   0]\n",
      " [ 0  0  0  0  0  0  0  0  0  0  0 13  0  0  0  0  0  0  0  0  0  0  0  0\n",
      "   0]\n",
      " [ 0  0  0  0  0  0  0  0  0  0  0  0 17  0  0  0  0  0  0  0  0  0  0  0\n",
      "   0]\n",
      " [ 0  0  0  0  0  0  0  0  0  0  0  0  0 17  0  0  0  0  0  0  0  0  0  0\n",
      "   0]\n",
      " [ 0  0  0  0  0  0  0  0  0  0  0  0  0  0 19  0  0  0  0  0  0  0  0  0\n",
      "   0]\n",
      " [ 0  0  0  0  0  0  0  0  0  0  0  0  0  0  0 16  0  0  0  0  0  0  0  0\n",
      "   0]\n",
      " [ 0  0  0  0  0  0  0  0  0  0  0  0  0  0  0  0 22  0  0  0  0  0  0  0\n",
      "   0]\n",
      " [ 0  0  0  0  0  0  0  0  0  0  0  0  0  0  0  0  0 13  0  0  0  0  0  0\n",
      "   0]\n",
      " [ 0  0  0  0  0  0  0  0  0  0  0  0  0  0  0  0  0  0 17  0  0  0  0  0\n",
      "   0]\n",
      " [ 0  0  0  0  0  0  0  0  0  0  0  0  0  0  0  0  0  0  0 11  0  0  0  0\n",
      "   0]\n",
      " [ 0  0  0  0  0  0  0  0  0  0  0  0  0  0  0  0  0  0  0  0 13  0  0  0\n",
      "   0]\n",
      " [ 0  0  0  0  0  0  0  0  0  0  0  0  0  0  0  0  0  0  0  0  0 17  0  0\n",
      "   0]\n",
      " [ 0  0  0  0  0  0  0  0  0  0  0  0  0  0  0  0  0  0  0  0  0  0 16  0\n",
      "   0]\n",
      " [ 0  0  0  0  0  0  0  0  0  0  0  0  0  0  0  0  0  0  0  0  0  0  0 23\n",
      "   0]\n",
      " [ 0  0  0  0  0  0  0  0  0  0  0  0  0  0  0  0  0  0  0  0  0  0  0  0\n",
      "  15]]\n",
      "Classification Report:\n",
      "              precision    recall  f1-score   support\n",
      "\n",
      "           0       1.00      1.00      1.00        14\n",
      "           1       1.00      1.00      1.00        14\n",
      "           2       1.00      1.00      1.00        19\n",
      "           3       1.00      1.00      1.00        17\n",
      "           4       1.00      1.00      1.00        18\n",
      "           5       1.00      1.00      1.00        19\n",
      "           6       1.00      1.00      1.00        13\n",
      "           7       1.00      1.00      1.00        20\n",
      "           8       1.00      1.00      1.00        24\n",
      "           9       1.00      1.00      1.00        13\n",
      "          10       1.00      1.00      1.00        20\n",
      "          11       1.00      1.00      1.00        13\n",
      "          12       1.00      1.00      1.00        17\n",
      "          13       1.00      1.00      1.00        17\n",
      "          14       1.00      1.00      1.00        19\n",
      "          15       1.00      1.00      1.00        16\n",
      "          16       1.00      1.00      1.00        22\n",
      "          17       1.00      1.00      1.00        13\n",
      "          18       1.00      1.00      1.00        17\n",
      "          19       1.00      1.00      1.00        11\n",
      "          20       1.00      1.00      1.00        13\n",
      "          21       1.00      1.00      1.00        17\n",
      "          22       1.00      1.00      1.00        16\n",
      "          23       1.00      1.00      1.00        23\n",
      "          24       1.00      1.00      1.00        15\n",
      "\n",
      "    accuracy                           1.00       420\n",
      "   macro avg       1.00      1.00      1.00       420\n",
      "weighted avg       1.00      1.00      1.00       420\n",
      "\n"
     ]
    }
   ],
   "source": [
    "# 3. Train RandomForestClassifier\n",
    "rf_model = OneVsRestClassifier(RandomForestClassifier())\n",
    "rf_model.fit(x_train, y_train)\n",
    "y_pred_rf = rf_model.predict(x_test)\n",
    "print(\"\\nRandomForestClassifier Results:\")\n",
    "print(f\"Accuracy: {accuracy_score(y_test, y_pred_rf):.4f}\")\n",
    "print(f\"Confusion Matrix:\\n{confusion_matrix(y_test, y_pred_rf)}\")\n",
    "print(f\"Classification Report:\\n{classification_report(y_test, y_pred_rf)}\")"
   ]
  },
  {
   "cell_type": "markdown",
   "metadata": {},
   "source": [
    "Save Files"
   ]
  },
  {
   "cell_type": "code",
   "execution_count": 91,
   "metadata": {
    "execution": {
     "iopub.execute_input": "2025-05-24T05:51:24.670466Z",
     "iopub.status.busy": "2025-05-24T05:51:24.670172Z",
     "iopub.status.idle": "2025-05-24T05:51:25.265847Z",
     "shell.execute_reply": "2025-05-24T05:51:25.264929Z",
     "shell.execute_reply.started": "2025-05-24T05:51:24.670445Z"
    },
    "trusted": true
   },
   "outputs": [],
   "source": [
    "\n",
    "import pickle\n",
    "pickle.dump(tfidf,open('tfidf.pkl','wb'))\n",
    "pickle.dump(svc_model, open('clf.pkl', 'wb'))\n",
    "pickle.dump(le, open(\"encoder.pkl\",'wb'))"
   ]
  },
  {
   "cell_type": "markdown",
   "metadata": {},
   "source": [
    "Prediction System"
   ]
  },
  {
   "cell_type": "code",
   "execution_count": 92,
   "metadata": {
    "execution": {
     "iopub.execute_input": "2025-05-24T05:51:25.266942Z",
     "iopub.status.busy": "2025-05-24T05:51:25.266683Z",
     "iopub.status.idle": "2025-05-24T05:51:25.272021Z",
     "shell.execute_reply": "2025-05-24T05:51:25.271046Z",
     "shell.execute_reply.started": "2025-05-24T05:51:25.266922Z"
    },
    "trusted": true
   },
   "outputs": [],
   "source": [
    "# Function to predict the category of a resume\n",
    "def pred(input_resume):\n",
    "    # Preprocess the input text (e.g., cleaning, etc.)\n",
    "    cleaned_text = cleanResume(input_resume) \n",
    "\n",
    "    # Vectorize the cleaned text using the same TF-IDF vectorizer used during training\n",
    "    vectorized_text = tfidf.transform([cleaned_text])\n",
    "    \n",
    "    # Convert sparse matrix to dense\n",
    "    vectorized_text = vectorized_text.toarray()\n",
    "\n",
    "    # Prediction\n",
    "    predicted_category = svc_model.predict(vectorized_text)\n",
    "\n",
    "    # get name of predicted category\n",
    "    predicted_category_name = le.inverse_transform(predicted_category)\n",
    "\n",
    "    return predicted_category_name[0]  # Return the category name"
   ]
  },
  {
   "cell_type": "code",
   "execution_count": 93,
   "metadata": {
    "execution": {
     "iopub.execute_input": "2025-05-24T05:51:25.273721Z",
     "iopub.status.busy": "2025-05-24T05:51:25.273330Z",
     "iopub.status.idle": "2025-05-24T05:51:25.335560Z",
     "shell.execute_reply": "2025-05-24T05:51:25.334591Z",
     "shell.execute_reply.started": "2025-05-24T05:51:25.273690Z"
    },
    "trusted": true
   },
   "outputs": [
    {
     "data": {
      "text/plain": [
       "'Data Science'"
      ]
     },
     "execution_count": 93,
     "metadata": {},
     "output_type": "execute_result"
    }
   ],
   "source": [
    "myresume = \"\"\"I am a data scientist specializing in machine\n",
    "learning, deep learning, and computer vision. With\n",
    "a strong background in mathematics, statistics,\n",
    "and programming, I am passionate about\n",
    "uncovering hidden patterns and insights in data.\n",
    "I have extensive experience in developing\n",
    "predictive models, implementing deep learning\n",
    "algorithms, and designing computer vision\n",
    "systems. My technical skills include proficiency in\n",
    "Python, Sklearn, TensorFlow, and PyTorch.\n",
    "What sets me apart is my ability to effectively\n",
    "communicate complex concepts to diverse\n",
    "audiences. I excel in translating technical insights\n",
    "into actionable recommendations that drive\n",
    "informed decision-making.\n",
    "If you're looking for a dedicated and versatile data\n",
    "scientist to collaborate on impactful projects, I am\n",
    "eager to contribute my expertise. Let's harness the\n",
    "power of data together to unlock new possibilities\n",
    "and shape a better future.\n",
    "Contact & Sources\n",
    "Email: 611noorsaeed@gmail.com\n",
    "Phone: 03442826192\n",
    "Github: https://github.com/611noorsaeed\n",
    "Linkdin: https://www.linkedin.com/in/noor-saeed654a23263/\n",
    "Blogs: https://medium.com/@611noorsaeed\n",
    "Youtube: Artificial Intelligence\n",
    "ABOUT ME\n",
    "WORK EXPERIENCE\n",
    "SKILLES\n",
    "NOOR SAEED\n",
    "LANGUAGES\n",
    "English\n",
    "Urdu\n",
    "Hindi\n",
    "I am a versatile data scientist with expertise in a wide\n",
    "range of projects, including machine learning,\n",
    "recommendation systems, deep learning, and computer\n",
    "vision. Throughout my career, I have successfully\n",
    "developed and deployed various machine learning models\n",
    "to solve complex problems and drive data-driven\n",
    "decision-making\n",
    "Machine Learnine\n",
    "Deep Learning\n",
    "Computer Vision\n",
    "Recommendation Systems\n",
    "Data Visualization\n",
    "Programming Languages (Python, SQL)\n",
    "Data Preprocessing and Feature Engineering\n",
    "Model Evaluation and Deployment\n",
    "Statistical Analysis\n",
    "Communication and Collaboration\n",
    "\"\"\"\n",
    "\n",
    "pred(myresume)"
   ]
  },
  {
   "cell_type": "code",
   "execution_count": 94,
   "metadata": {
    "execution": {
     "iopub.execute_input": "2025-05-24T05:51:25.337052Z",
     "iopub.status.busy": "2025-05-24T05:51:25.336597Z",
     "iopub.status.idle": "2025-05-24T05:51:25.384443Z",
     "shell.execute_reply": "2025-05-24T05:51:25.383641Z",
     "shell.execute_reply.started": "2025-05-24T05:51:25.337004Z"
    },
    "trusted": true
   },
   "outputs": [
    {
     "data": {
      "text/plain": [
       "'Health and fitness'"
      ]
     },
     "execution_count": 94,
     "metadata": {},
     "output_type": "execute_result"
    }
   ],
   "source": [
    "myresume = \"\"\"\n",
    "Jane Smith is a certified personal trainer with over 5 years of experience in helping individuals achieve their fitness goals. Specializing in weight loss, strength training, and sports conditioning, Jane has developed personalized workout routines for clients of all ages and fitness levels. She has extensive knowledge in nutrition and exercise science, and uses this to create holistic health and fitness programs that are tailored to individual needs.\n",
    "\n",
    "Jane holds a degree in Exercise Science and is a certified trainer through the National Academy of Sports Medicine (NASM). She has worked with athletes, seniors, and individuals with chronic health conditions, helping them improve their physical well-being and overall quality of life.\n",
    "\n",
    "Her expertise includes:\n",
    "- Weight Loss and Body Composition\n",
    "- Strength Training and Resistance Exercises\n",
    "- Cardio Conditioning\n",
    "- Nutrition Coaching and Meal Planning\n",
    "- Injury Prevention and Rehabilitation\n",
    "- Functional Movement and Flexibility Training\n",
    "- Group Fitness Classes\n",
    "\n",
    "Certifications:\n",
    "- Certified Personal Trainer, NASM\n",
    "- CPR and First Aid Certified\n",
    "- Yoga Instructor (200-Hour Certification)\n",
    "\n",
    "Education:\n",
    "BSc in Exercise Science, ABC University, 2014-2018\n",
    "\n",
    "Work Experience:\n",
    "- Personal Trainer at XYZ Fitness Gym (2018-Present)\n",
    "- Fitness Coach at Wellness Center (2016-2018)\n",
    "\n",
    "Languages:\n",
    "- English (Fluent)\n",
    "- Spanish (Conversational)\n",
    "\"\"\"\n",
    "\n",
    "# Now, test the model with the Health and Fitness-focused resume\n",
    "pred(myresume)"
   ]
  },
  {
   "cell_type": "code",
   "execution_count": 95,
   "metadata": {
    "execution": {
     "iopub.execute_input": "2025-05-24T05:51:25.385664Z",
     "iopub.status.busy": "2025-05-24T05:51:25.385374Z",
     "iopub.status.idle": "2025-05-24T05:51:25.433988Z",
     "shell.execute_reply": "2025-05-24T05:51:25.433206Z",
     "shell.execute_reply.started": "2025-05-24T05:51:25.385641Z"
    },
    "trusted": true
   },
   "outputs": [
    {
     "data": {
      "text/plain": [
       "'Network Security Engineer'"
      ]
     },
     "execution_count": 95,
     "metadata": {},
     "output_type": "execute_result"
    }
   ],
   "source": [
    "myresume = \"\"\"\n",
    "John Doe is an experienced Network Security Engineer with over 7 years of expertise in designing, implementing, and managing network security infrastructures. Specializing in safeguarding critical network systems, John has worked with various organizations to protect against cyber threats, data breaches, and unauthorized access. He is proficient in deploying firewalls, intrusion detection systems (IDS), VPNs, and network monitoring tools to ensure the integrity and security of networks.\n",
    "\n",
    "John holds a degree in Computer Science and certifications in several cybersecurity domains, including Certified Information Systems Security Professional (CISSP), Certified Ethical Hacker (CEH), and Cisco Certified Network Associate (CCNA). He has extensive experience in troubleshooting and resolving network vulnerabilities, and has played a key role in conducting security audits and risk assessments.\n",
    "\n",
    "Key Skills:\n",
    "- Network Security Architecture\n",
    "- Firewall Management and Configuration\n",
    "- Intrusion Detection and Prevention Systems (IDS/IPS)\n",
    "- Virtual Private Networks (VPNs)\n",
    "- Security Audits and Risk Assessments\n",
    "- Cybersecurity Incident Response\n",
    "- Network Monitoring and Traffic Analysis\n",
    "- Vulnerability Assessment and Penetration Testing\n",
    "- Data Encryption and Secure Communications\n",
    "\n",
    "Certifications:\n",
    "- CISSP (Certified Information Systems Security Professional)\n",
    "- CEH (Certified Ethical Hacker)\n",
    "- CCNA (Cisco Certified Network Associate)\n",
    "- CompTIA Security+\n",
    "\n",
    "Education:\n",
    "BSc in Computer Science, XYZ University, 2012-2016\n",
    "\n",
    "Professional Experience:\n",
    "- Network Security Engineer at ABC Corp (2016-Present)\n",
    "- IT Security Specialist at DEF Solutions (2014-2016)\n",
    "\n",
    "Languages:\n",
    "- English (Fluent)\n",
    "- French (Intermediate)\n",
    "\"\"\"\n",
    "\n",
    "# Now, test the model with the Network Security Engineer-focused resume\n",
    "pred(myresume)"
   ]
  },
  {
   "cell_type": "code",
   "execution_count": 96,
   "metadata": {
    "execution": {
     "iopub.execute_input": "2025-05-24T05:51:25.435012Z",
     "iopub.status.busy": "2025-05-24T05:51:25.434725Z",
     "iopub.status.idle": "2025-05-24T05:51:25.483331Z",
     "shell.execute_reply": "2025-05-24T05:51:25.482541Z",
     "shell.execute_reply.started": "2025-05-24T05:51:25.434990Z"
    },
    "trusted": true
   },
   "outputs": [
    {
     "data": {
      "text/plain": [
       "'Advocate'"
      ]
     },
     "execution_count": 96,
     "metadata": {},
     "output_type": "execute_result"
    }
   ],
   "source": [
    "myresume = \"\"\"\n",
    "Sarah Williams is a dedicated and skilled advocate with over 10 years of experience in providing legal representation to clients across various sectors, including criminal law, civil litigation, and family law. With a deep understanding of legal procedures and case law, Sarah has successfully handled numerous cases in the courtroom, negotiating favorable settlements and providing expert legal advice to individuals and businesses.\n",
    "\n",
    "She holds a law degree from XYZ University and is a licensed attorney, practicing law in multiple jurisdictions. Sarah is passionate about ensuring justice is served and strives to make legal processes more accessible to her clients. She is known for her excellent research and analytical skills, attention to detail, and commitment to upholding the law with integrity.\n",
    "\n",
    "Key Skills:\n",
    "- Criminal Law\n",
    "- Civil Litigation\n",
    "- Family Law\n",
    "- Contract Law\n",
    "- Legal Research and Writing\n",
    "- Courtroom Advocacy\n",
    "- Legal Counseling and Advice\n",
    "- Client Relationship Management\n",
    "- Legal Compliance and Regulations\n",
    "- Negotiation and Settlement\n",
    "\n",
    "Certifications and Licenses:\n",
    "- Licensed Attorney at Law, XYZ State Bar\n",
    "- Certification in Criminal Law, XYZ University\n",
    "\n",
    "Education:\n",
    "JD in Law, XYZ University, 2010-2013\n",
    "\n",
    "Professional Experience:\n",
    "- Senior Advocate at ABC Law Firm (2016-Present)\n",
    "- Associate Advocate at DEF Legal Group (2013-2016)\n",
    "\n",
    "Languages:\n",
    "- English (Fluent)\n",
    "- Spanish (Conversational)\n",
    "\"\"\"\n",
    "\n",
    "# Now, test the model with the Advocate-focused resume\n",
    "pred(myresume)"
   ]
  },
  {
   "cell_type": "code",
   "execution_count": null,
   "metadata": {
    "trusted": true
   },
   "outputs": [],
   "source": []
  },
  {
   "cell_type": "code",
   "execution_count": null,
   "metadata": {},
   "outputs": [],
   "source": []
  }
 ],
 "metadata": {
  "kaggle": {
   "accelerator": "none",
   "dataSources": [
    {
     "datasetId": 1177531,
     "sourceId": 1971405,
     "sourceType": "datasetVersion"
    }
   ],
   "dockerImageVersionId": 31040,
   "isGpuEnabled": false,
   "isInternetEnabled": true,
   "language": "python",
   "sourceType": "notebook"
  },
  "kernelspec": {
   "display_name": "base",
   "language": "python",
   "name": "python3"
  },
  "language_info": {
   "codemirror_mode": {
    "name": "ipython",
    "version": 3
   },
   "file_extension": ".py",
   "mimetype": "text/x-python",
   "name": "python",
   "nbconvert_exporter": "python",
   "pygments_lexer": "ipython3",
   "version": "3.12.4"
  }
 },
 "nbformat": 4,
 "nbformat_minor": 4
}
